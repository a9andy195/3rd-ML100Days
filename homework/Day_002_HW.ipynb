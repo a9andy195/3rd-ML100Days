{
 "cells": [
  {
   "cell_type": "markdown",
   "metadata": {},
   "source": [
    "## [作業目標]\n",
    "了解機器學習適合應用的領域與範疇。"
   ]
  },
  {
   "cell_type": "markdown",
   "metadata": {},
   "source": [
    "## [作業重點]\n",
    "透過瞭解機器學習的運作方式，找出非常適用機器學習應用的領域及其原因"
   ]
  },
  {
   "cell_type": "markdown",
   "metadata": {},
   "source": [
    "## 作業\n",
    "請找出一個你認為機器學習可以發光發熱的領域並闡述原因? "
   ]
  },
  {
   "cell_type": "code",
   "execution_count": null,
   "metadata": {},
   "outputs": [],
   "source": [
    "   \"\"\"\n",
    "   機器學習\n",
    "   現在跑電腦的速比以前快了很多，使得可以用大量資訊來做機器學習\\\n",
    "   社群軟體部分\n",
    "   像現在我用Instagram，我能透過我按讚的內燃，他就會顯出許多相關的資料，讓我更有興趣觀看，為增強學習的部分\n",
    "   還有透過標籤的方式，讓大家更了解到你想表達的部分，更好做分類，讓想找特定主題時能更容易關注到\n",
    "   還可以做來商業廣告來宣傳，讓大家更了解你想賣的商品，或者知識的傳遞，PYTHON教學等等，透過標籤TAG的方式讓全世界連結，\n",
    "   讓人可以知道類似你學的東西 EX:跳舞，能讓你找到世界其他人也跟自己一 樣有著個興趣，找到同類的概念，透過互相交流，加速討論的速度\n",
    "   讓彼此成長得更快，十分的有用\n",
    "   "
   ]
  }
 ],
 "metadata": {
  "kernelspec": {
   "display_name": "Python 3",
   "language": "python",
   "name": "python3"
  },
  "language_info": {
   "codemirror_mode": {
    "name": "ipython",
    "version": 3
   },
   "file_extension": ".py",
   "mimetype": "text/x-python",
   "name": "python",
   "nbconvert_exporter": "python",
   "pygments_lexer": "ipython3",
   "version": "3.6.5"
  }
 },
 "nbformat": 4,
 "nbformat_minor": 2
}
